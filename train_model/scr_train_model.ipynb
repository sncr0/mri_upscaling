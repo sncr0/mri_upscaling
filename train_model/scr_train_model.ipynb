{
 "cells": [
  {
   "cell_type": "code",
   "execution_count": null,
   "metadata": {},
   "outputs": [
    {
     "ename": "",
     "evalue": "",
     "output_type": "error",
     "traceback": [
      "\u001b[1;31mThe Kernel crashed while executing code in the current cell or a previous cell. \n",
      "\u001b[1;31mPlease review the code in the cell(s) to identify a possible cause of the failure. \n",
      "\u001b[1;31mClick <a href='https://aka.ms/vscodeJupyterKernelCrash'>here</a> for more info. \n",
      "\u001b[1;31mView Jupyter <a href='command:jupyter.viewOutput'>log</a> for further details."
     ]
    }
   ],
   "source": [
    "import os\n",
    "from PIL import Image\n",
    "import numpy as np\n",
    "\n",
    "# Define the input directory\n",
    "dataset_path = \"../mri_dataset/kaggle_3m/\"\n",
    "output_path = \"../mri_dataset/super_resolved/\"\n",
    "X_train = []\n",
    "y_train = []\n",
    "\n",
    "# Define the target resolution (width, height)\n",
    "target_resolution = (256, 256)\n",
    "\n",
    "# Create the output directory if it doesn't exist\n",
    "if not os.path.exists(output_path):\n",
    "    os.makedirs(output_path)\n",
    "\n",
    "# Define a custom sorting function to sort filenames by numeric part\n",
    "def sort_by_numeric(filename):\n",
    "    return int(''.join(filter(str.isdigit, filename)))\n",
    "\n",
    "# Function to downsample an image\n",
    "def downsample_image(img, target_resolution):\n",
    "    return img.resize(target_resolution, Image.LANCZOS)\n",
    "\n",
    "# Iterate over TIFF files in the dataset\n",
    "for patient in os.listdir(dataset_path):\n",
    "    # Iterate over TIFF files for each patient\n",
    "    for tif_file in sorted(os.listdir(os.path.join(dataset_path, patient)), key=sort_by_numeric):\n",
    "        if \"_mask\" not in tif_file:  # Filter out \"mask\" images\n",
    "            # Read original image\n",
    "            original_image_path = os.path.join(dataset_path, patient, tif_file)\n",
    "            original_img = Image.open(original_image_path)\n",
    "            \n",
    "            # Downsample the image\n",
    "            downscaled_img = downsample_image(original_img, target_resolution)\n",
    "            \n",
    "            # Save the downsampled image to the output directory\n",
    "            output_downscaled_image_path = os.path.join(output_path, patient, tif_file)\n",
    "            os.makedirs(os.path.dirname(output_downscaled_image_path), exist_ok=True)\n",
    "            downscaled_img.save(output_downscaled_image_path)\n",
    "            \n",
    "            # Convert image to numpy array and append to training data\n",
    "            original_img_array = np.array(original_img)\n",
    "            downscaled_img_array = np.array(downscaled_img)\n",
    "            X_train.append(downscaled_img_array)\n",
    "            y_train.append(original_img_array)\n",
    "\n",
    "# Convert training data to numpy arrays\n",
    "X_train = np.array(X_train)\n",
    "y_train = np.array(y_train)\n",
    "\n",
    "# Normalize the pixel values to the range [0, 1]\n",
    "X_train = X_train.astype('float32') / 255.0\n",
    "y_train = y_train.astype('float32') / 255.0\n"
   ]
  },
  {
   "cell_type": "code",
   "execution_count": 2,
   "metadata": {},
   "outputs": [],
   "source": [
    "super_resolution_model = build_super_resolution_model(input_shape)\n"
   ]
  },
  {
   "cell_type": "code",
   "execution_count": 10,
   "metadata": {},
   "outputs": [
    {
     "data": {
      "text/plain": [
       "2"
      ]
     },
     "execution_count": 10,
     "metadata": {},
     "output_type": "execute_result"
    }
   ],
   "source": [
    "len(patient_images[\"TCGA_CS_4941_19960909\"][0])"
   ]
  },
  {
   "cell_type": "code",
   "execution_count": 11,
   "metadata": {},
   "outputs": [
    {
     "ename": "",
     "evalue": "",
     "output_type": "error",
     "traceback": [
      "\u001b[1;31mThe Kernel crashed while executing code in the current cell or a previous cell. \n",
      "\u001b[1;31mPlease review the code in the cell(s) to identify a possible cause of the failure. \n",
      "\u001b[1;31mClick <a href='https://aka.ms/vscodeJupyterKernelCrash'>here</a> for more info. \n",
      "\u001b[1;31mView Jupyter <a href='command:jupyter.viewOutput'>log</a> for further details."
     ]
    }
   ],
   "source": [
    "X_train = []\n",
    "y_train = []\n",
    "\n",
    "# Define the target resolution (width, height)\n",
    "target_resolution = (256, 256)\n",
    "\n",
    "# Create the output directory if it doesn't exist\n",
    "if not os.path.exists(output_path):\n",
    "    os.makedirs(output_path)\n",
    "\n",
    "# Define a custom sorting function to sort filenames by numeric part\n",
    "def sort_by_numeric(filename):\n",
    "    return int(''.join(filter(str.isdigit, filename)))\n",
    "\n",
    "# Function to downsample an image\n",
    "def downsample_image(img, target_resolution):\n",
    "    return img.resize(target_resolution, Image.LANCZOS)\n",
    "\n",
    "# Iterate over patients in the dataset\n",
    "for patient in os.listdir(dataset_path):\n",
    "    patient_images[patient] = []\n",
    "    \n",
    "    # Iterate over TIFF files for each patient\n",
    "    for tif_file in sorted(os.listdir(os.path.join(dataset_path, patient)), key=sort_by_numeric):\n",
    "        if \"_mask\" not in tif_file:  # Filter out \"mask\" images\n",
    "            # Read original image\n",
    "            original_image_path = os.path.join(dataset_path, patient, tif_file)\n",
    "            original_img = Image.open(original_image_path)\n",
    "            \n",
    "            # Downsample the image\n",
    "            downscaled_img = downsample_image(original_img, target_resolution)\n",
    "            \n",
    "            # Save the downsampled image to the output directory\n",
    "            output_downscaled_image_path = os.path.join(output_path, patient, tif_file)\n",
    "            os.makedirs(os.path.dirname(output_downscaled_image_path), exist_ok=True)\n",
    "            downscaled_img.save(output_downscaled_image_path)\n",
    "            \n",
    "            # Convert image to numpy array and append to patient images list\n",
    "            original_img_array = np.array(original_img)\n",
    "            downscaled_img_array = np.array(downscaled_img)\n",
    "            patient_images[patient].append([original_img_array, downscaled_img_array])\n",
    "            \n",
    "            # Append to training data\n",
    "            X_train.append(downscaled_img_array)\n",
    "            y_train.append(original_img_array)\n",
    "\n",
    "# Convert training data to numpy arrays\n",
    "X_train = np.array(X_train)\n",
    "y_train = np.array(y_train)\n",
    "\n",
    "# Normalize the pixel values to the range [0, 1]\n",
    "X_train = X_train.astype('float32') / 255.0\n",
    "y_train = y_train.astype('float32') / 255.0"
   ]
  },
  {
   "cell_type": "code",
   "execution_count": null,
   "metadata": {},
   "outputs": [],
   "source": [
    "super_resolution_model.compile(optimizer='adam', loss='mse')\n"
   ]
  },
  {
   "cell_type": "code",
   "execution_count": null,
   "metadata": {},
   "outputs": [],
   "source": [
    "super_resolution_model.fit(X_train, y_train, epochs=10, batch_size=32)\n",
    "\n",
    "# Perform super-resolution on new downsampled images and save the super-resolved images\n",
    "for patient, image_list in patient_images.items():\n",
    "    for i, (_, downscaled_img) in enumerate(image_list):\n",
    "        super_resolved_img = super_resolution_model.predict(downscaled_img.reshape(1, *target_resolution, 3))\n",
    "        super_resolved_img = np.squeeze(super_resolved_img)  # Remove batch dimension\n",
    "        output_super_resolved_image_path = os.path.join(output_path, patient, f\"super_resolved_{i}.png\")\n",
    "        os.makedirs(os.path.dirname(output_super_resolved_image_path), exist_ok=True)\n",
    "        Image.fromarray((super_resolved_img * 255).astype('uint8')).save(output_super_resolved_image_path)"
   ]
  }
 ],
 "metadata": {
  "kernelspec": {
   "display_name": "Python 3",
   "language": "python",
   "name": "python3"
  },
  "language_info": {
   "codemirror_mode": {
    "name": "ipython",
    "version": 3
   },
   "file_extension": ".py",
   "mimetype": "text/x-python",
   "name": "python",
   "nbconvert_exporter": "python",
   "pygments_lexer": "ipython3",
   "version": "3.10.12"
  }
 },
 "nbformat": 4,
 "nbformat_minor": 2
}
